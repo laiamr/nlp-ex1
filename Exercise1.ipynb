{
 "cells": [
  {
   "cell_type": "code",
   "execution_count": 1,
   "metadata": {},
   "outputs": [],
   "source": [
    "#Import packages\n",
    "import os\n",
    "import utils\n",
    "from lyricsgenius import Genius\n",
    "import pandas as pd"
   ]
  },
  {
   "cell_type": "markdown",
   "metadata": {},
   "source": [
    "**English lyrics**"
   ]
  },
  {
   "cell_type": "code",
   "execution_count": 2,
   "metadata": {},
   "outputs": [
    {
     "name": "stdout",
     "output_type": "stream",
     "text": [
      "File not found. Call API\n",
      "Searching for songs by Iron Maiden...\n",
      "\n",
      "Song 1: \"The Number of the Beast\"\n",
      "Song 2: \"The Trooper\"\n",
      "Song 3: \"Fear of the Dark\"\n",
      "Song 4: \"Hallowed Be Thy Name\"\n",
      "Song 5: \"Run to the Hills\"\n",
      "Song 6: \"2 Minutes to Midnight\"\n",
      "Song 7: \"Rime of the Ancient Mariner\"\n",
      "Song 8: \"Wasted Years\"\n",
      "Song 9: \"Aces High\"\n",
      "Song 10: \"The Writing on the Wall\"\n",
      "Song 11: \"Dance of Death\"\n",
      "Song 12: \"Phantom of the Opera\"\n",
      "Song 13: \"Iron Maiden\"\n",
      "Song 14: \"Powerslave\"\n",
      "Song 15: \"Revelations\"\n",
      "Song 16: \"Wasting Love\"\n",
      "Song 17: \"Empire of the Clouds\"\n",
      "Song 18: \"The Evil That Men Do\"\n",
      "Song 19: \"Alexander the Great (356-323 BC)\"\n",
      "Song 20: \"The Prisoner\"\n",
      "Song 21: \"Brave New World\"\n",
      "Song 22: \"Hell on Earth\"\n",
      "Song 23: \"Flight of Icarus\"\n",
      "Song 24: \"22 Acacia Avenue\"\n",
      "Song 25: \"Bring Your Daughter... to the Slaughter\"\n",
      "Song 26: \"Senjutsu\"\n",
      "Song 27: \"Where Eagles Dare\"\n",
      "Song 28: \"Children of the Damned\"\n",
      "Song 29: \"If Eternity Should Fail\"\n",
      "Song 30: \"Moonchild\"\n",
      "Song 31: \"Blood Brothers\"\n",
      "Song 32: \"The Red and the Black\"\n",
      "Song 33: \"The Wicker Man\"\n",
      "Song 34: \"Can I Play with Madness\"\n",
      "Song 35: \"Sign of the Cross\"\n",
      "Song 36: \"Seventh Son of a Seventh Son\"\n",
      "Song 37: \"The Parchment\"\n",
      "Song 38: \"Prowler\"\n",
      "Song 39: \"The Clansman\"\n",
      "Song 40: \"Infinite Dreams\"\n",
      "Song 41: \"Paschendale\"\n",
      "Song 42: \"Caught Somewhere in Time\"\n",
      "Song 43: \"For the Greater Good of God\"\n",
      "Song 44: \"Killers\"\n",
      "Song 45: \"Remember Tomorrow\"\n",
      "Song 46: \"Afraid to Shoot Strangers\"\n",
      "Song 47: \"Stratego\"\n",
      "Song 48: \"The Book of Souls\"\n",
      "Song 49: \"Stranger in a Strange Land\"\n",
      "Song 50: \"Wrathchild\"\n",
      "\n",
      "Reached user-specified song limit (50).\n",
      "Done. Found 50 songs.\n"
     ]
    }
   ],
   "source": [
    "# Decide if we need to call the Genius API to collect the lyrics or \n",
    "# if there is already a file with the processed string available\n",
    "filename_en = \"English_lyrics.txt\"\n",
    "try:\n",
    "    # Check if file exists\n",
    "    if os.path.isfile(filename_en):\n",
    "        # Open file and read text\n",
    "        with open(filename_en, 'r') as file: # If you want to see the whole extraction process from Genius API, delete file from folder\n",
    "            lyrics_en_str = file.read()\n",
    "    else:\n",
    "        # File does not exist - treat like an exception\n",
    "        raise FileNotFoundError\n",
    "except:\n",
    "    # File not found or error opening it\n",
    "    print(\"File not found. Call API\")\n",
    "    #Open connection to Genius API - to extract song lyrics\n",
    "    genius = utils.open_genius_api()\n",
    "    # Search by artist - return top list of song lyrics\n",
    "    lyrics_en = utils.get_top_lyrics_by_artist(genius, 'Iron Maiden', 50)\n",
    "    # Go through every lyric and clean it some - return string with all text lyrics\n",
    "    lyrics_en_str = utils.process_and_clean_lyrics(lyrics_en)\n",
    "    # Save clean text lyrics to a plain textfile\n",
    "    k = utils.save_text_to_file(lyrics_en_str, \"English\")\n"
   ]
  },
  {
   "cell_type": "code",
   "execution_count": 3,
   "metadata": {},
   "outputs": [
    {
     "data": {
      "text/plain": [
       "15421"
      ]
     },
     "execution_count": 3,
     "metadata": {},
     "output_type": "execute_result"
    }
   ],
   "source": [
    "# Tokenize string of lyrics\n",
    "tokenized_en = utils.tokenize_text(lyrics_en_str, 'en')\n",
    "# How many tokens there are\n",
    "len(tokenized_en)"
   ]
  },
  {
   "cell_type": "code",
   "execution_count": 4,
   "metadata": {},
   "outputs": [],
   "source": [
    "# Create dataframe with frequency and length of tokens\n",
    "df_en = utils.get_dataframe(tokenized_en)"
   ]
  },
  {
   "cell_type": "code",
   "execution_count": 5,
   "metadata": {},
   "outputs": [
    {
     "data": {
      "text/html": [
       "<div>\n",
       "<style scoped>\n",
       "    .dataframe tbody tr th:only-of-type {\n",
       "        vertical-align: middle;\n",
       "    }\n",
       "\n",
       "    .dataframe tbody tr th {\n",
       "        vertical-align: top;\n",
       "    }\n",
       "\n",
       "    .dataframe thead th {\n",
       "        text-align: right;\n",
       "    }\n",
       "</style>\n",
       "<table border=\"1\" class=\"dataframe\">\n",
       "  <thead>\n",
       "    <tr style=\"text-align: right;\">\n",
       "      <th></th>\n",
       "      <th>Token</th>\n",
       "      <th>Frequency</th>\n",
       "      <th>Length</th>\n",
       "    </tr>\n",
       "  </thead>\n",
       "  <tbody>\n",
       "    <tr>\n",
       "      <th>0</th>\n",
       "      <td>the</td>\n",
       "      <td>1052</td>\n",
       "      <td>3</td>\n",
       "    </tr>\n",
       "    <tr>\n",
       "      <th>1</th>\n",
       "      <td>to</td>\n",
       "      <td>399</td>\n",
       "      <td>2</td>\n",
       "    </tr>\n",
       "    <tr>\n",
       "      <th>2</th>\n",
       "      <td>of</td>\n",
       "      <td>394</td>\n",
       "      <td>2</td>\n",
       "    </tr>\n",
       "    <tr>\n",
       "      <th>3</th>\n",
       "      <td>and</td>\n",
       "      <td>365</td>\n",
       "      <td>3</td>\n",
       "    </tr>\n",
       "    <tr>\n",
       "      <th>4</th>\n",
       "      <td>i</td>\n",
       "      <td>335</td>\n",
       "      <td>1</td>\n",
       "    </tr>\n",
       "  </tbody>\n",
       "</table>\n",
       "</div>"
      ],
      "text/plain": [
       "  Token  Frequency  Length\n",
       "0   the       1052       3\n",
       "1    to        399       2\n",
       "2    of        394       2\n",
       "3   and        365       3\n",
       "4     i        335       1"
      ]
     },
     "execution_count": 5,
     "metadata": {},
     "output_type": "execute_result"
    }
   ],
   "source": [
    "# 5 most frequent tokens\n",
    "df_en.head()"
   ]
  },
  {
   "cell_type": "code",
   "execution_count": 6,
   "metadata": {},
   "outputs": [
    {
     "data": {
      "text/html": [
       "<div>\n",
       "<style scoped>\n",
       "    .dataframe tbody tr th:only-of-type {\n",
       "        vertical-align: middle;\n",
       "    }\n",
       "\n",
       "    .dataframe tbody tr th {\n",
       "        vertical-align: top;\n",
       "    }\n",
       "\n",
       "    .dataframe thead th {\n",
       "        text-align: right;\n",
       "    }\n",
       "</style>\n",
       "<table border=\"1\" class=\"dataframe\">\n",
       "  <thead>\n",
       "    <tr style=\"text-align: right;\">\n",
       "      <th></th>\n",
       "      <th>Token</th>\n",
       "      <th>Frequency</th>\n",
       "      <th>Length</th>\n",
       "    </tr>\n",
       "  </thead>\n",
       "  <tbody>\n",
       "    <tr>\n",
       "      <th>2137</th>\n",
       "      <td>nothin'</td>\n",
       "      <td>1</td>\n",
       "      <td>7</td>\n",
       "    </tr>\n",
       "    <tr>\n",
       "      <th>2138</th>\n",
       "      <td>alter</td>\n",
       "      <td>1</td>\n",
       "      <td>5</td>\n",
       "    </tr>\n",
       "    <tr>\n",
       "      <th>2139</th>\n",
       "      <td>destination</td>\n",
       "      <td>1</td>\n",
       "      <td>11</td>\n",
       "    </tr>\n",
       "    <tr>\n",
       "      <th>2140</th>\n",
       "      <td>serious</td>\n",
       "      <td>1</td>\n",
       "      <td>7</td>\n",
       "    </tr>\n",
       "    <tr>\n",
       "      <th>2141</th>\n",
       "      <td>ugh</td>\n",
       "      <td>1</td>\n",
       "      <td>3</td>\n",
       "    </tr>\n",
       "  </tbody>\n",
       "</table>\n",
       "</div>"
      ],
      "text/plain": [
       "            Token  Frequency  Length\n",
       "2137      nothin'          1       7\n",
       "2138        alter          1       5\n",
       "2139  destination          1      11\n",
       "2140      serious          1       7\n",
       "2141          ugh          1       3"
      ]
     },
     "execution_count": 6,
     "metadata": {},
     "output_type": "execute_result"
    }
   ],
   "source": [
    "# 5 tokens with freq 1 (some of the least common)\n",
    "df_en.tail()"
   ]
  },
  {
   "cell_type": "code",
   "execution_count": 20,
   "metadata": {},
   "outputs": [
    {
     "data": {
      "text/html": [
       "<div>\n",
       "<style scoped>\n",
       "    .dataframe tbody tr th:only-of-type {\n",
       "        vertical-align: middle;\n",
       "    }\n",
       "\n",
       "    .dataframe tbody tr th {\n",
       "        vertical-align: top;\n",
       "    }\n",
       "\n",
       "    .dataframe thead th {\n",
       "        text-align: right;\n",
       "    }\n",
       "</style>\n",
       "<table border=\"1\" class=\"dataframe\">\n",
       "  <thead>\n",
       "    <tr style=\"text-align: right;\">\n",
       "      <th></th>\n",
       "      <th>Token</th>\n",
       "      <th>Frequency</th>\n",
       "      <th>Length</th>\n",
       "    </tr>\n",
       "  </thead>\n",
       "  <tbody>\n",
       "    <tr>\n",
       "      <th>558</th>\n",
       "      <td>passchendaele</td>\n",
       "      <td>4</td>\n",
       "      <td>13</td>\n",
       "    </tr>\n",
       "    <tr>\n",
       "      <th>1042</th>\n",
       "      <td>understanding</td>\n",
       "      <td>1</td>\n",
       "      <td>13</td>\n",
       "    </tr>\n",
       "    <tr>\n",
       "      <th>1510</th>\n",
       "      <td>christianity</td>\n",
       "      <td>1</td>\n",
       "      <td>12</td>\n",
       "    </tr>\n",
       "    <tr>\n",
       "      <th>1397</th>\n",
       "      <td>weatherglass</td>\n",
       "      <td>1</td>\n",
       "      <td>12</td>\n",
       "    </tr>\n",
       "    <tr>\n",
       "      <th>1970</th>\n",
       "      <td>spiritualist</td>\n",
       "      <td>1</td>\n",
       "      <td>12</td>\n",
       "    </tr>\n",
       "  </tbody>\n",
       "</table>\n",
       "</div>"
      ],
      "text/plain": [
       "              Token  Frequency  Length\n",
       "558   passchendaele          4      13\n",
       "1042  understanding          1      13\n",
       "1510   christianity          1      12\n",
       "1397   weatherglass          1      12\n",
       "1970   spiritualist          1      12"
      ]
     },
     "execution_count": 20,
     "metadata": {},
     "output_type": "execute_result"
    }
   ],
   "source": [
    "# Frequencies of the 5 longest tokens (over 11 chars)\n",
    "df_en[df_en['Length']>10].sort_values(by='Length', ascending=False)[:5]"
   ]
  },
  {
   "cell_type": "code",
   "execution_count": 8,
   "metadata": {},
   "outputs": [
    {
     "data": {
      "image/png": "[encoded data removed]",
      "text/plain": [
       "<Figure size 640x480 with 1 Axes>"
      ]
     },
     "metadata": {},
     "output_type": "display_data"
    }
   ],
   "source": [
    "# Plot length-frequency scatterplot\n",
    "utils.plot_length_frequency(df_en['Length'], df_en['Frequency'], \"English\")"
   ]
  },
  {
   "cell_type": "markdown",
   "metadata": {},
   "source": [
    "**Catalan lyrics**"
   ]
  },
  {
   "cell_type": "code",
   "execution_count": null,
   "metadata": {},
   "outputs": [
    {
     "name": "stdout",
     "output_type": "stream",
     "text": [
      "File not found. Call API\n",
      "Searching for songs by Els Pets...\n",
      "\n",
      "Song 1: \"Bon dia\"\n",
      "Song 2: \"Bona nit\"\n",
      "Song 3: \"Blue Tack\"\n",
      "Song 4: \"Digue’m que m’estimes (encara que sigui mentida)\"\n",
      "Song 5: \"Jo vull ser rei\"\n",
      "Song 6: \"S’ha Acabat\"\n",
      "Song 7: \"Vespre\"\n",
      "Song 8: \"Tarragona m’esborrona\"\n",
      "Song 9: \"Pau\"\n",
      "Song 10: \"Agost\"\n",
      "Song 11: \"La vida és bonica (però complicada)\"\n",
      "Song 12: \"Vine a La Festa\"\n",
      "Song 13: \"Com anar al cel i tornar\"\n",
      "Song 14: \"L’àrea petita\"\n",
      "Song 15: \"Per què no vens\"\n",
      "Song 16: \"Cançó d’amor #398\"\n",
      "Song 17: \"Jo sóc el teu amic\"\n",
      "Song 18: \"Dissimulat\"\n",
      "Song 19: \"Parla\"\n",
      "Song 20: \"Pantalons curts i els genolls pelats\"\n",
      "Song 21: \"Una estona de cel\"\n",
      "Song 22: \"No t’enyoro (Cançó d’amor desesperada)\"\n",
      "Song 23: \"És hora de tornar a casa\"\n",
      "Song 24: \"Núria\"\n",
      "Song 25: \"Cercles viciosos\"\n",
      "Song 26: \"Tantes coses a fer\"\n",
      "Song 27: \"Ulls de color mel\"\n",
      "Song 28: \"No Sóc Un Forat\"\n",
      "Song 29: \"El que val la pena de veritat\"\n",
      "Song 30: \"No t’enyoro\"\n",
      "Song 31: \"No n’hi ha prou amb estimar-se molt\"\n",
      "Song 32: \"A batzegades\"\n",
      "Song 33: \"Una fiblada a la pell\"\n",
      "Song 34: \"Massa jove per fer-me gran\"\n",
      "Song 35: \"Aquest cony de temps\"\n",
      "Song 36: \"Noia de vidre\"\n",
      "Song 37: \"No n’hi ha prou amb ser català\"\n",
      "Song 38: \"Està plovent\"\n",
      "Song 39: \"No diguis res\"\n",
      "Song 40: \"Ja no ploro\"\n",
      "Song 41: \"Valset\"\n",
      "Song 42: \"Bocins de tu\"\n",
      "Song 43: \"Feliç\"\n",
      "Song 44: \"Segon plat\"\n",
      "Song 45: \"Com més et coneixo, més m’agrada el teu gos\"\n",
      "Song 46: \"Sortiràs al carrer\"\n",
      "Song 47: \"Soroll\"\n",
      "Song 48: \"Hospital del mar\"\n",
      "Song 49: \"Oli de tall\"\n",
      "Song 50: \"Terra Billy\"\n",
      "\n",
      "Reached user-specified song limit (50).\n",
      "Done. Found 50 songs.\n"
     ]
    }
   ],
   "source": [
    "# Decide if we need to call the Genius API to collect the lyrics or \n",
    "# if there is already a file with the processed string available\n",
    "filename_ca = \"Catalan_lyrics.txt\"\n",
    "try:\n",
    "    # Check if file exists\n",
    "    if os.path.isfile(filename_ca):\n",
    "        # Open file and read text\n",
    "        with open(filename_ca, 'r') as file: # If you want to see the whole extraction process from Genius API, delete file from folder\n",
    "            lyrics_ca_str = file.read()\n",
    "    else:\n",
    "        # File does not exist - treat like an exception\n",
    "        raise FileNotFoundError\n",
    "except:\n",
    "    # File not found or error opening it\n",
    "    print(\"File not found. Call API\")\n",
    "    #Open connection to Genius API - to extract song lyrics\n",
    "    genius = utils.open_genius_api()\n",
    "    # Search by artist - return top list of song lyrics\n",
    "    lyrics_ca = utils.get_top_lyrics_by_artist(genius, 'Els Pets', 50)\n",
    "    # Go through every lyric and clean it some - return string with all text lyrics\n",
    "    lyrics_ca_str = utils.process_and_clean_lyrics(lyrics_ca)\n",
    "    # Save clean text lyrics to a plain textfile\n",
    "    k = utils.save_text_to_file(lyrics_ca_str, \"Catalan\")\n"
   ]
  },
  {
   "cell_type": "code",
   "execution_count": 10,
   "metadata": {},
   "outputs": [
    {
     "data": {
      "text/plain": [
       "9965"
      ]
     },
     "execution_count": 10,
     "metadata": {},
     "output_type": "execute_result"
    }
   ],
   "source": [
    "# Tokenize string of lyrics\n",
    "tokenized_ca = utils.tokenize_text(lyrics_ca_str, 'ca')\n",
    "# How many tokens there are\n",
    "len(tokenized_ca)"
   ]
  },
  {
   "cell_type": "code",
   "execution_count": 11,
   "metadata": {},
   "outputs": [],
   "source": [
    "# Create dataframe with frequency and length of tokens\n",
    "df_ca = utils.get_dataframe(tokenized_ca)"
   ]
  },
  {
   "cell_type": "code",
   "execution_count": 12,
   "metadata": {},
   "outputs": [
    {
     "data": {
      "text/html": [
       "<div>\n",
       "<style scoped>\n",
       "    .dataframe tbody tr th:only-of-type {\n",
       "        vertical-align: middle;\n",
       "    }\n",
       "\n",
       "    .dataframe tbody tr th {\n",
       "        vertical-align: top;\n",
       "    }\n",
       "\n",
       "    .dataframe thead th {\n",
       "        text-align: right;\n",
       "    }\n",
       "</style>\n",
       "<table border=\"1\" class=\"dataframe\">\n",
       "  <thead>\n",
       "    <tr style=\"text-align: right;\">\n",
       "      <th></th>\n",
       "      <th>Token</th>\n",
       "      <th>Frequency</th>\n",
       "      <th>Length</th>\n",
       "    </tr>\n",
       "  </thead>\n",
       "  <tbody>\n",
       "    <tr>\n",
       "      <th>0</th>\n",
       "      <td>que</td>\n",
       "      <td>391</td>\n",
       "      <td>3</td>\n",
       "    </tr>\n",
       "    <tr>\n",
       "      <th>1</th>\n",
       "      <td>i</td>\n",
       "      <td>328</td>\n",
       "      <td>1</td>\n",
       "    </tr>\n",
       "    <tr>\n",
       "      <th>2</th>\n",
       "      <td>el</td>\n",
       "      <td>296</td>\n",
       "      <td>2</td>\n",
       "    </tr>\n",
       "    <tr>\n",
       "      <th>3</th>\n",
       "      <td>a</td>\n",
       "      <td>279</td>\n",
       "      <td>1</td>\n",
       "    </tr>\n",
       "    <tr>\n",
       "      <th>4</th>\n",
       "      <td>de</td>\n",
       "      <td>274</td>\n",
       "      <td>2</td>\n",
       "    </tr>\n",
       "  </tbody>\n",
       "</table>\n",
       "</div>"
      ],
      "text/plain": [
       "  Token  Frequency  Length\n",
       "0   que        391       3\n",
       "1     i        328       1\n",
       "2    el        296       2\n",
       "3     a        279       1\n",
       "4    de        274       2"
      ]
     },
     "execution_count": 12,
     "metadata": {},
     "output_type": "execute_result"
    }
   ],
   "source": [
    "# 5 most frequent tokens\n",
    "df_ca.head()"
   ]
  },
  {
   "cell_type": "code",
   "execution_count": 13,
   "metadata": {},
   "outputs": [
    {
     "data": {
      "text/html": [
       "<div>\n",
       "<style scoped>\n",
       "    .dataframe tbody tr th:only-of-type {\n",
       "        vertical-align: middle;\n",
       "    }\n",
       "\n",
       "    .dataframe tbody tr th {\n",
       "        vertical-align: top;\n",
       "    }\n",
       "\n",
       "    .dataframe thead th {\n",
       "        text-align: right;\n",
       "    }\n",
       "</style>\n",
       "<table border=\"1\" class=\"dataframe\">\n",
       "  <thead>\n",
       "    <tr style=\"text-align: right;\">\n",
       "      <th></th>\n",
       "      <th>Token</th>\n",
       "      <th>Frequency</th>\n",
       "      <th>Length</th>\n",
       "    </tr>\n",
       "  </thead>\n",
       "  <tbody>\n",
       "    <tr>\n",
       "      <th>2145</th>\n",
       "      <td>92</td>\n",
       "      <td>1</td>\n",
       "      <td>2</td>\n",
       "    </tr>\n",
       "    <tr>\n",
       "      <th>2146</th>\n",
       "      <td>barna</td>\n",
       "      <td>1</td>\n",
       "      <td>5</td>\n",
       "    </tr>\n",
       "    <tr>\n",
       "      <th>2147</th>\n",
       "      <td>endú</td>\n",
       "      <td>1</td>\n",
       "      <td>4</td>\n",
       "    </tr>\n",
       "    <tr>\n",
       "      <th>2148</th>\n",
       "      <td>medalles</td>\n",
       "      <td>1</td>\n",
       "      <td>8</td>\n",
       "    </tr>\n",
       "    <tr>\n",
       "      <th>2149</th>\n",
       "      <td>escorrialles</td>\n",
       "      <td>1</td>\n",
       "      <td>12</td>\n",
       "    </tr>\n",
       "  </tbody>\n",
       "</table>\n",
       "</div>"
      ],
      "text/plain": [
       "             Token  Frequency  Length\n",
       "2145            92          1       2\n",
       "2146         barna          1       5\n",
       "2147          endú          1       4\n",
       "2148      medalles          1       8\n",
       "2149  escorrialles          1      12"
      ]
     },
     "execution_count": 13,
     "metadata": {},
     "output_type": "execute_result"
    }
   ],
   "source": [
    "# 5 tokens with freq 1 (some of the least common)\n",
    "df_ca.tail()"
   ]
  },
  {
   "cell_type": "code",
   "execution_count": 21,
   "metadata": {},
   "outputs": [
    {
     "data": {
      "text/html": [
       "<div>\n",
       "<style scoped>\n",
       "    .dataframe tbody tr th:only-of-type {\n",
       "        vertical-align: middle;\n",
       "    }\n",
       "\n",
       "    .dataframe tbody tr th {\n",
       "        vertical-align: top;\n",
       "    }\n",
       "\n",
       "    .dataframe thead th {\n",
       "        text-align: right;\n",
       "    }\n",
       "</style>\n",
       "<table border=\"1\" class=\"dataframe\">\n",
       "  <thead>\n",
       "    <tr style=\"text-align: right;\">\n",
       "      <th></th>\n",
       "      <th>Token</th>\n",
       "      <th>Frequency</th>\n",
       "      <th>Length</th>\n",
       "    </tr>\n",
       "  </thead>\n",
       "  <tbody>\n",
       "    <tr>\n",
       "      <th>2084</th>\n",
       "      <td>tranquil.lament</td>\n",
       "      <td>1</td>\n",
       "      <td>15</td>\n",
       "    </tr>\n",
       "    <tr>\n",
       "      <th>442</th>\n",
       "      <td>infal·libilitat</td>\n",
       "      <td>3</td>\n",
       "      <td>15</td>\n",
       "    </tr>\n",
       "    <tr>\n",
       "      <th>2071</th>\n",
       "      <td>tranquil·lament</td>\n",
       "      <td>1</td>\n",
       "      <td>15</td>\n",
       "    </tr>\n",
       "    <tr>\n",
       "      <th>2055</th>\n",
       "      <td>presidenciables</td>\n",
       "      <td>1</td>\n",
       "      <td>15</td>\n",
       "    </tr>\n",
       "    <tr>\n",
       "      <th>1768</th>\n",
       "      <td>tranquil·litzar</td>\n",
       "      <td>1</td>\n",
       "      <td>15</td>\n",
       "    </tr>\n",
       "  </tbody>\n",
       "</table>\n",
       "</div>"
      ],
      "text/plain": [
       "                Token  Frequency  Length\n",
       "2084  tranquil.lament          1      15\n",
       "442   infal·libilitat          3      15\n",
       "2071  tranquil·lament          1      15\n",
       "2055  presidenciables          1      15\n",
       "1768  tranquil·litzar          1      15"
      ]
     },
     "execution_count": 21,
     "metadata": {},
     "output_type": "execute_result"
    }
   ],
   "source": [
    "# Frequencies of the 5 longest tokens (over 11 chars)\n",
    "df_ca[df_ca['Length']>10].sort_values(by='Length', ascending=False)[:5]"
   ]
  },
  {
   "cell_type": "code",
   "execution_count": 15,
   "metadata": {},
   "outputs": [
    {
     "data": {
      "image/png": "[encoded data removed]",
      "text/plain": [
       "<Figure size 640x480 with 1 Axes>"
      ]
     },
     "metadata": {},
     "output_type": "display_data"
    }
   ],
   "source": [
    "# Plot length-frequency scatterplot\n",
    "utils.plot_length_frequency(df_ca['Length'], df_ca['Frequency'], \"Catalan\")"
   ]
  }
 ],
 "metadata": {
  "kernelspec": {
   "display_name": "venv",
   "language": "python",
   "name": "python3"
  },
  "language_info": {
   "codemirror_mode": {
    "name": "ipython",
    "version": 3
   },
   "file_extension": ".py",
   "mimetype": "text/x-python",
   "name": "python",
   "nbconvert_exporter": "python",
   "pygments_lexer": "ipython3",
   "version": "3.12.5"
  }
 },
 "nbformat": 4,
 "nbformat_minor": 2
}
